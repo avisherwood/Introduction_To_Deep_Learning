{
 "cells": [
  {
   "cell_type": "markdown",
   "metadata": {},
   "source": [
    "# Introduction to Deep Learning\n",
    "## Part 1 - Linear perceptron and the concept of learning\n",
    "\n",
    "Discussion is on the structure of a neuron and the algorithmic concept concept behind learning.\n",
    "The coded example single linear neuron or perceptron, learning the logic OR and AND Gates."
   ]
  },
  {
   "cell_type": "code",
   "execution_count": 1,
   "metadata": {},
   "outputs": [],
   "source": [
    "import matplotlib.pyplot as plt\n",
    "import numpy as np\n",
    "import utils_plot as uplot\n",
    "import matplotlib.gridspec as gridspec\n",
    "from sklearn.metrics import accuracy_score, log_loss\n",
    "%matplotlib inline  "
   ]
  },
  {
   "cell_type": "markdown",
   "metadata": {},
   "source": [
    "## Inspiration - The Biological Neuron Model\n",
    "**The Neuron cell takes a binary input (of electrical signals), process it, and produce binary output (of electrical signal).**<br>"
   ]
  },
  {
   "cell_type": "markdown",
   "metadata": {},
   "source": [
    "![title](https://raw.githubusercontent.com/naomifridman/Introduction_to_deep_learning/master/imgs/neuron3.PNG)\n",
    "\n",
    "**Neuron Input**<br>\n",
    "A neuron accepts inputs, usually from other neurons, through its dendrites, that are connect to other neurons via a gap called a synapse which assigns a \"weight\" to any specific input. <br>\n",
    "All of these inputs are processed together in the cell body (soma)<br>\n",
    "\n",
    "**Neuron Output**<br>\n",
    "The Neurons process the combination of the inputs, and if it exceeds a certain threshold, an output signal is produced (the neuron \"fires\")<br>\n",
    "When the neuron fires, the signal (output) travels along the axon to the synapse terminals,there it assigned a \"weight\", and continue to the dendrites of other neurons through the synapse.<br>\n",
    "With this biological model in mind, we can define a mathematical artificial neuron."
   ]
  },
  {
   "cell_type": "markdown",
   "metadata": {},
   "source": [
    "## Perceptron - An Artificial Neural Network\n",
    "As in the Biological model, we want the neuron to intake an inputs, process it (weighted sum) and if it exceeds a threshold, the neuron will produce an output. \n",
    "\n",
    "![title](https://raw.githubusercontent.com/naomifridman/Introduction_to_deep_learning/master/imgs/perceptron_paradigma3.png)\n"
   ]
  },
  {
   "cell_type": "markdown",
   "metadata": {},
   "source": [
    "## Decision Units - Activation functions\n",
    "There are many options for decision units, and we will see later. Lets start with the basic one, defined by McCulloch-Pitts (1943)\n",
    "### Binary threshold unit\n",
    "![title](https://raw.githubusercontent.com/naomifridman/Introduction_to_deep_learning/master/imgs/part1_form1.JPG)\n",
    "\n"
   ]
  },
  {
   "cell_type": "code",
   "execution_count": 2,
   "metadata": {},
   "outputs": [
    {
     "data": {
      "image/png": "[encoded data removed]",
      "text/plain": [
       "<Figure size 480x160 with 1 Axes>"
      ]
     },
     "metadata": {},
     "output_type": "display_data"
    }
   ],
   "source": [
    "uplot.drow_binary_threshold()"
   ]
  },
  {
   "cell_type": "markdown",
   "metadata": {},
   "source": [
    "## Learning the Bias\n",
    "Now we need to learn the weights and the bias. But we can use a trick, to avoid separate scheme, for learning the bias. \n",
    "![title](https://raw.githubusercontent.com/naomifridman/Introduction_to_deep_learning/master/imgs/part1_form2.JPG)\n",
    "> This way, we can learn the bias as it was part of the weights. "
   ]
  },
  {
   "cell_type": "markdown",
   "metadata": {},
   "source": [
    "## Learning weights\n",
    "The idea is to go over the samples, and correct/update the weights according to the results on the samples.\n",
    "![title](https://raw.githubusercontent.com/naomifridman/Introduction_to_deep_learning/master/imgs/dl3.jpg)\n",
    "#### Update the weights\n",
    "There are many strategies to update the weights, and we will see them later."
   ]
  },
  {
   "cell_type": "markdown",
   "metadata": {},
   "source": [
    "\n",
    "### Perceptron Example - Logic OR\n",
    "Lets build a Perceptron, that performs a logic OR:\n"
   ]
  },
  {
   "cell_type": "markdown",
   "metadata": {},
   "source": [
    "X1 | X2 | OR\n",
    "--- | --- | ---\n",
    "*0* | 0 | **0**\n",
    "*1* | 0 | **1**\n",
    "*0* | 1 | **1**\n",
    "*1* | 1 | **1**"
   ]
  },
  {
   "cell_type": "markdown",
   "metadata": {},
   "source": [
    "* $X$ is the input\n",
    "* $w$ are the weights\n",
    "* $X*w$ is the input to the activation function\n",
    "$$z = Xw$$\n",
    "* $\\hat{y}$ is the 0/1 output from activation\n",
    "$$ \\hat{y} = \\begin{cases} 1 & z \\geqslant  0\\\\ 0 & otherwise \\end{cases}$$"
   ]
  },
  {
   "cell_type": "markdown",
   "metadata": {},
   "source": [
    "\n",
    "The scheme will be to Go over all training cases in any order, and:\n",
    "  * If the output is correct, continue\n",
    "  * If output < label  (increase $w$): $\\to{w} = {w} + {X}_{i}$\n",
    "  * If output > label (decrease $w$): $\\to{w} = {w} - {X}_{i}$"
   ]
  },
  {
   "cell_type": "code",
   "execution_count": 3,
   "metadata": {},
   "outputs": [],
   "source": [
    "# The activation function\n",
    "def binary_threshold_activation(Xw):\n",
    "    yhat = 0\n",
    "    if(Xw > 0):\n",
    "        yhat = 1\n",
    "    return yhat"
   ]
  },
  {
   "cell_type": "code",
   "execution_count": 4,
   "metadata": {},
   "outputs": [],
   "source": [
    "def predict(X, w):\n",
    "    yhat = 0\n",
    "    z = np.dot(X, w)\n",
    "    if(z > 0):\n",
    "        yhat = 1\n",
    "    return yhat"
   ]
  },
  {
   "cell_type": "code",
   "execution_count": 10,
   "metadata": {},
   "outputs": [],
   "source": [
    "def perceptron_train(X, Y,n=7):\n",
    "\n",
    "    w = np.zeros(len(X[0]))\n",
    "    errors = []\n",
    "    \n",
    "    for t in range(n):\n",
    "        \n",
    "        print('--------------------------\\nepoch: ' , t)\n",
    "        total_error = 0\n",
    "        \n",
    "        for i in range(X.shape[0]):\n",
    "             \n",
    "            z = np.dot(X[i], w)\n",
    "            yhat = binary_threshold_activation(z)\n",
    "            \n",
    "            if (yhat == Y[i]):\n",
    "                print(i,'x:',X[i],'w:', w,'Wx: ', np.dot(X[i], w),\n",
    "                      'y:',Y[i], end=' ')\n",
    "                print('correct no update')\n",
    "                continue\n",
    "                \n",
    "            elif (yhat < Y[i]):\n",
    "                total_error += 1\n",
    "                print(i, 'yhat<y', 'X:',X[i],'w:', w,'Wx:',\n",
    "                      np.dot(X[i], w), 'y:',Y[i], end=' ')\n",
    "        \n",
    "                \n",
    "                w = w + X[i]\n",
    "                print('=> W updated:', w)\n",
    "                \n",
    "            elif (yhat > Y[i]):\n",
    "                total_error += 1\n",
    "                print(i, 'yhat>y' ,'X:',X[i],'w:', w,'Wx:', \n",
    "                      np.dot(X[i], w), 'y:',Y[i] ,end = ' ')\n",
    "                \n",
    "                w = w - X[i]\n",
    "                print('=> W updated:', w)\n",
    "                \n",
    "        errors.append(total_error)\n",
    "        \n",
    "    plt.plot(errors)\n",
    "    plt.xlabel('Epoch')\n",
    "    plt.ylabel('Total Loss')\n",
    "    \n",
    "    return w"
   ]
  },
  {
   "cell_type": "code",
   "execution_count": 11,
   "metadata": {
    "scrolled": false
   },
   "outputs": [
    {
     "name": "stdout",
     "output_type": "stream",
     "text": [
      "--------------------------\n",
      "epoch:  0\n",
      "0 x: [1 0 0] w: [0. 0. 0.] Wx:  0.0 y: 0 correct no update\n",
      "1 yhat<y X: [1 1 0] w: [0. 0. 0.] Wx: 0.0 y: 1 => W updated: [1. 1. 0.]\n",
      "2 x: [1 0 1] w: [1. 1. 0.] Wx:  1.0 y: 1 correct no update\n",
      "3 x: [1 1 1] w: [1. 1. 0.] Wx:  2.0 y: 1 correct no update\n",
      "--------------------------\n",
      "epoch:  1\n",
      "0 yhat>y X: [1 0 0] w: [1. 1. 0.] Wx: 1.0 y: 0 => W updated: [0. 1. 0.]\n",
      "1 x: [1 1 0] w: [0. 1. 0.] Wx:  1.0 y: 1 correct no update\n",
      "2 yhat<y X: [1 0 1] w: [0. 1. 0.] Wx: 0.0 y: 1 => W updated: [1. 1. 1.]\n",
      "3 x: [1 1 1] w: [1. 1. 1.] Wx:  3.0 y: 1 correct no update\n",
      "--------------------------\n",
      "epoch:  2\n",
      "0 yhat>y X: [1 0 0] w: [1. 1. 1.] Wx: 1.0 y: 0 => W updated: [0. 1. 1.]\n",
      "1 x: [1 1 0] w: [0. 1. 1.] Wx:  1.0 y: 1 correct no update\n",
      "2 x: [1 0 1] w: [0. 1. 1.] Wx:  1.0 y: 1 correct no update\n",
      "3 x: [1 1 1] w: [0. 1. 1.] Wx:  2.0 y: 1 correct no update\n",
      "--------------------------\n",
      "epoch:  3\n",
      "0 x: [1 0 0] w: [0. 1. 1.] Wx:  0.0 y: 0 correct no update\n",
      "1 x: [1 1 0] w: [0. 1. 1.] Wx:  1.0 y: 1 correct no update\n",
      "2 x: [1 0 1] w: [0. 1. 1.] Wx:  1.0 y: 1 correct no update\n",
      "3 x: [1 1 1] w: [0. 1. 1.] Wx:  2.0 y: 1 correct no update\n",
      "--------------------------\n",
      "epoch:  4\n",
      "0 x: [1 0 0] w: [0. 1. 1.] Wx:  0.0 y: 0 correct no update\n",
      "1 x: [1 1 0] w: [0. 1. 1.] Wx:  1.0 y: 1 correct no update\n",
      "2 x: [1 0 1] w: [0. 1. 1.] Wx:  1.0 y: 1 correct no update\n",
      "3 x: [1 1 1] w: [0. 1. 1.] Wx:  2.0 y: 1 correct no update\n",
      "--------------------------\n",
      "epoch:  5\n",
      "0 x: [1 0 0] w: [0. 1. 1.] Wx:  0.0 y: 0 correct no update\n",
      "1 x: [1 1 0] w: [0. 1. 1.] Wx:  1.0 y: 1 correct no update\n",
      "2 x: [1 0 1] w: [0. 1. 1.] Wx:  1.0 y: 1 correct no update\n",
      "3 x: [1 1 1] w: [0. 1. 1.] Wx:  2.0 y: 1 correct no update\n",
      "--------------------------\n",
      "epoch:  6\n",
      "0 x: [1 0 0] w: [0. 1. 1.] Wx:  0.0 y: 0 correct no update\n",
      "1 x: [1 1 0] w: [0. 1. 1.] Wx:  1.0 y: 1 correct no update\n",
      "2 x: [1 0 1] w: [0. 1. 1.] Wx:  1.0 y: 1 correct no update\n",
      "3 x: [1 1 1] w: [0. 1. 1.] Wx:  2.0 y: 1 correct no update\n",
      "Learned Weights: [0. 1. 1.]\n"
     ]
    },
    {
     "data": {
      "image/png": "[encoded data removed]",
      "text/plain": [
       "<Figure size 432x288 with 1 Axes>"
      ]
     },
     "metadata": {
      "needs_background": "light"
     },
     "output_type": "display_data"
    }
   ],
   "source": [
    "X = [[1,0,0],\n",
    "    [1,1,0],\n",
    "    [1,0,1],\n",
    "    [1,1,1]]\n",
    "\n",
    "y = [0, 1, 1, 1]\n",
    "\n",
    "w=perceptron_train(np.array(X),y)\n",
    "print('Learned Weights:', w)\n"
   ]
  },
  {
   "cell_type": "markdown",
   "metadata": {},
   "source": [
    "### Predict OR with The learned weights of the Perceptron"
   ]
  },
  {
   "cell_type": "code",
   "execution_count": 12,
   "metadata": {},
   "outputs": [
    {
     "name": "stdout",
     "output_type": "stream",
     "text": [
      "[1, 0, 0] 0  OR  0  =  0\n",
      "[1, 1, 0] 1  OR  0  =  1\n",
      "[1, 0, 1] 0  OR  1  =  1\n",
      "[1, 1, 1] 1  OR  1  =  1\n"
     ]
    }
   ],
   "source": [
    "for i in range(4):\n",
    "    print(X[i], X[i][1],' OR ', X[i][2],' = ', predict(X[i],w))\n"
   ]
  },
  {
   "cell_type": "markdown",
   "metadata": {},
   "source": [
    "# Exercise\n",
    "## Re-train Perceptron to Preform logic AND\n",
    "* How many epoch's needed ?\n",
    "* what are the learned weights ?\n",
    "* Check weights by predicting logic AND "
   ]
  },
  {
   "cell_type": "markdown",
   "metadata": {},
   "source": [
    "### Re-train Percepron to Preform logic AND\n",
    "Same perceptron,can learn to perform logic AND, When its trained on the correct data:\n",
    "\n",
    "X1 | X2 | AND\n",
    "--- | --- | ---\n",
    "*0* | 0 | **0**\n",
    "*1* | 0 | **0**\n",
    "*0* | 1 | **0**\n",
    "*1* | 1 | **1**"
   ]
  },
  {
   "cell_type": "code",
   "execution_count": 13,
   "metadata": {
    "scrolled": false
   },
   "outputs": [
    {
     "name": "stdout",
     "output_type": "stream",
     "text": [
      "--------------------------\n",
      "epoch:  0\n",
      "0 x: [1 0 0] w: [0. 0. 0.] Wx:  0.0 y: 0 correct no update\n",
      "1 x: [1 1 0] w: [0. 0. 0.] Wx:  0.0 y: 0 correct no update\n",
      "2 x: [1 0 1] w: [0. 0. 0.] Wx:  0.0 y: 0 correct no update\n",
      "3 yhat<y X: [1 1 1] w: [0. 0. 0.] Wx: 0.0 y: 1 => W updated: [1. 1. 1.]\n",
      "--------------------------\n",
      "epoch:  1\n",
      "0 yhat>y X: [1 0 0] w: [1. 1. 1.] Wx: 1.0 y: 0 => W updated: [0. 1. 1.]\n",
      "1 yhat>y X: [1 1 0] w: [0. 1. 1.] Wx: 1.0 y: 0 => W updated: [-1.  0.  1.]\n",
      "2 x: [1 0 1] w: [-1.  0.  1.] Wx:  0.0 y: 0 correct no update\n",
      "3 yhat<y X: [1 1 1] w: [-1.  0.  1.] Wx: 0.0 y: 1 => W updated: [0. 1. 2.]\n",
      "--------------------------\n",
      "epoch:  2\n",
      "0 x: [1 0 0] w: [0. 1. 2.] Wx:  0.0 y: 0 correct no update\n",
      "1 yhat>y X: [1 1 0] w: [0. 1. 2.] Wx: 1.0 y: 0 => W updated: [-1.  0.  2.]\n",
      "2 yhat>y X: [1 0 1] w: [-1.  0.  2.] Wx: 1.0 y: 0 => W updated: [-2.  0.  1.]\n",
      "3 yhat<y X: [1 1 1] w: [-2.  0.  1.] Wx: -1.0 y: 1 => W updated: [-1.  1.  2.]\n",
      "--------------------------\n",
      "epoch:  3\n",
      "0 x: [1 0 0] w: [-1.  1.  2.] Wx:  -1.0 y: 0 correct no update\n",
      "1 x: [1 1 0] w: [-1.  1.  2.] Wx:  0.0 y: 0 correct no update\n",
      "2 yhat>y X: [1 0 1] w: [-1.  1.  2.] Wx: 1.0 y: 0 => W updated: [-2.  1.  1.]\n",
      "3 yhat<y X: [1 1 1] w: [-2.  1.  1.] Wx: 0.0 y: 1 => W updated: [-1.  2.  2.]\n",
      "--------------------------\n",
      "epoch:  4\n",
      "0 x: [1 0 0] w: [-1.  2.  2.] Wx:  -1.0 y: 0 correct no update\n",
      "1 yhat>y X: [1 1 0] w: [-1.  2.  2.] Wx: 1.0 y: 0 => W updated: [-2.  1.  2.]\n",
      "2 x: [1 0 1] w: [-2.  1.  2.] Wx:  0.0 y: 0 correct no update\n",
      "3 x: [1 1 1] w: [-2.  1.  2.] Wx:  1.0 y: 1 correct no update\n",
      "--------------------------\n",
      "epoch:  5\n",
      "0 x: [1 0 0] w: [-2.  1.  2.] Wx:  -2.0 y: 0 correct no update\n",
      "1 x: [1 1 0] w: [-2.  1.  2.] Wx:  -1.0 y: 0 correct no update\n",
      "2 x: [1 0 1] w: [-2.  1.  2.] Wx:  0.0 y: 0 correct no update\n",
      "3 x: [1 1 1] w: [-2.  1.  2.] Wx:  1.0 y: 1 correct no update\n",
      "--------------------------\n",
      "epoch:  6\n",
      "0 x: [1 0 0] w: [-2.  1.  2.] Wx:  -2.0 y: 0 correct no update\n",
      "1 x: [1 1 0] w: [-2.  1.  2.] Wx:  -1.0 y: 0 correct no update\n",
      "2 x: [1 0 1] w: [-2.  1.  2.] Wx:  0.0 y: 0 correct no update\n",
      "3 x: [1 1 1] w: [-2.  1.  2.] Wx:  1.0 y: 1 correct no update\n",
      "Learned Weights: [-2.  1.  2.]\n"
     ]
    },
    {
     "data": {
      "image/png": "[encoded data removed]",
      "text/plain": [
       "<Figure size 432x288 with 1 Axes>"
      ]
     },
     "metadata": {
      "needs_background": "light"
     },
     "output_type": "display_data"
    }
   ],
   "source": [
    "X = [[1,0,0],\n",
    "    [1,1,0],\n",
    "    [1,0,1],\n",
    "    [1,1,1]]\n",
    "\n",
    "y = [0, 0, 0, 1]\n",
    "\n",
    "w = perceptron_train(np.array(X),y)\n",
    "print('Learned Weights:', w)\n"
   ]
  },
  {
   "cell_type": "markdown",
   "metadata": {},
   "source": [
    "### Predict AND with The learned weights of the Perceptron"
   ]
  },
  {
   "cell_type": "code",
   "execution_count": 14,
   "metadata": {},
   "outputs": [
    {
     "name": "stdout",
     "output_type": "stream",
     "text": [
      "[1, 0, 0] 0  AND  0  =  0\n",
      "[1, 1, 0] 1  AND  0  =  0\n",
      "[1, 0, 1] 0  AND  1  =  0\n",
      "[1, 1, 1] 1  AND  1  =  1\n"
     ]
    }
   ],
   "source": [
    "for i in range(4):\n",
    "    print(X[i], X[i][1],' AND ', X[i][2],' = ', predict(X[i],w))\n"
   ]
  },
  {
   "cell_type": "code",
   "execution_count": null,
   "metadata": {},
   "outputs": [],
   "source": []
  }
 ],
 "metadata": {
  "kernelspec": {
   "display_name": "Python 3",
   "language": "python",
   "name": "python3"
  },
  "language_info": {
   "codemirror_mode": {
    "name": "ipython",
    "version": 3
   },
   "file_extension": ".py",
   "mimetype": "text/x-python",
   "name": "python",
   "nbconvert_exporter": "python",
   "pygments_lexer": "ipython3",
   "version": "3.6.6"
  }
 },
 "nbformat": 4,
 "nbformat_minor": 2
}
