{
 "cells": [
  {
   "cell_type": "markdown",
   "metadata": {},
   "source": [
    "## Introduction to Deep Learning \n",
    "# Training DNN with Keras\n",
    "### Parkinson classification Example"
   ]
  },
  {
   "cell_type": "code",
   "execution_count": 256,
   "metadata": {},
   "outputs": [],
   "source": [
    "import matplotlib.pyplot as plt\n",
    "import pandas as pd\n",
    "\n",
    "import numpy as np\n",
    "import utils_plot as uplot\n",
    "import matplotlib.gridspec as gridspec\n",
    "from sklearn.metrics import accuracy_score, log_loss\n",
    "\n",
    "%matplotlib inline  "
   ]
  },
  {
   "cell_type": "markdown",
   "metadata": {},
   "source": [
    "## Utilities"
   ]
  },
  {
   "cell_type": "code",
   "execution_count": 257,
   "metadata": {},
   "outputs": [],
   "source": [
    "from sklearn.metrics import accuracy_score\n",
    "from sklearn.metrics import confusion_matrix\n",
    "from sklearn.metrics import classification_report\n",
    "from sklearn.metrics import cohen_kappa_score\n",
    "\n",
    "def print_stats(ytest, ypred):\n",
    "    \n",
    "    print(\"Accuracy: {:.5f}, Cohen's Kappa Score: {:.5f}\".format(\n",
    "        accuracy_score(ytest, ypred), \n",
    "        cohen_kappa_score(ytest, ypred, weights=\"quadratic\")))\n",
    "    print(\"Confusion Matrix:\")\n",
    "    print(confusion_matrix(ytest, ypred))\n",
    "    print(\"Classification Report:\")\n",
    "    print(classification_report(ytest, ypred))"
   ]
  },
  {
   "cell_type": "code",
   "execution_count": 258,
   "metadata": {},
   "outputs": [],
   "source": [
    "def drow_history_list(history_list, history_names=None,  metric=None):\n",
    "    \n",
    "    if metric is None:\n",
    "        metric = 'loss'\n",
    "        \n",
    "    leg = []\n",
    "    if history_names is not None:\n",
    "        for n in history_names:\n",
    "            leg.append('train ' + n)\n",
    "            leg.append('test ' + n)\n",
    "    else:\n",
    "        for n in range(len(history_list)):\n",
    "            leg.append('train ' + str(n))\n",
    "            leg.append('test ' + str(n))\n",
    "            \n",
    "    for hist in history_list:\n",
    "        \n",
    "        plt.plot(hist.history[metric])\n",
    "        plt.plot(hist.history['val_'+ metric], '--', linewidth=2)\n",
    "        \n",
    "        \n",
    "    plt.title('model '+metric)\n",
    "    plt.ylabel(metric)\n",
    "    plt.xlabel('epoch')\n",
    "    plt.legend(leg, loc='best')\n",
    "    plt.show()  "
   ]
  },
  {
   "cell_type": "code",
   "execution_count": 259,
   "metadata": {},
   "outputs": [],
   "source": [
    "import keras\n",
    "# Keras has many build in data sets\n",
    "from keras.datasets import mnist\n",
    "# Sequential is the basic feed forward neural network (FFN)\n",
    "from keras.models import Sequential\n",
    "# Dense is fully connected layer\n",
    "# Dropout is a \"noising\" layer, to prevent over feet.\n",
    "from keras.layers import Dense, Dropout\n",
    "# Read about optimizers in keras documentation\n",
    "from keras.optimizers import RMSprop\n",
    "from keras import optimizers"
   ]
  },
  {
   "cell_type": "code",
   "execution_count": 260,
   "metadata": {},
   "outputs": [],
   "source": [
    "from sklearn.datasets import make_moons, make_circles, make_classification\n",
    "from sklearn.preprocessing import StandardScaler, MaxAbsScaler\n",
    "from sklearn.model_selection import train_test_split\n",
    "from matplotlib.colors import ListedColormap\n",
    "from sklearn.metrics import accuracy_score"
   ]
  },
  {
   "cell_type": "markdown",
   "metadata": {},
   "source": [
    "## Parkinson binary classification example\n",
    "### Create, normalize and split data"
   ]
  },
  {
   "cell_type": "code",
   "execution_count": 261,
   "metadata": {},
   "outputs": [
    {
     "data": {
      "text/html": [
       "<div>\n",
       "<style scoped>\n",
       "    .dataframe tbody tr th:only-of-type {\n",
       "        vertical-align: middle;\n",
       "    }\n",
       "\n",
       "    .dataframe tbody tr th {\n",
       "        vertical-align: top;\n",
       "    }\n",
       "\n",
       "    .dataframe thead th {\n",
       "        text-align: right;\n",
       "    }\n",
       "</style>\n",
       "<table border=\"1\" class=\"dataframe\">\n",
       "  <thead>\n",
       "    <tr style=\"text-align: right;\">\n",
       "      <th></th>\n",
       "      <th>subject#</th>\n",
       "      <th>age</th>\n",
       "      <th>sex</th>\n",
       "      <th>test_time</th>\n",
       "      <th>motor_UPDRS</th>\n",
       "      <th>total_UPDRS</th>\n",
       "      <th>Jitter(%)</th>\n",
       "      <th>Jitter(Abs)</th>\n",
       "      <th>Jitter:RAP</th>\n",
       "      <th>Jitter:PPQ5</th>\n",
       "      <th>...</th>\n",
       "      <th>Shimmer(dB)</th>\n",
       "      <th>Shimmer:APQ3</th>\n",
       "      <th>Shimmer:APQ5</th>\n",
       "      <th>Shimmer:APQ11</th>\n",
       "      <th>Shimmer:DDA</th>\n",
       "      <th>NHR</th>\n",
       "      <th>HNR</th>\n",
       "      <th>RPDE</th>\n",
       "      <th>DFA</th>\n",
       "      <th>PPE</th>\n",
       "    </tr>\n",
       "  </thead>\n",
       "  <tbody>\n",
       "    <tr>\n",
       "      <th>0</th>\n",
       "      <td>1</td>\n",
       "      <td>72</td>\n",
       "      <td>0</td>\n",
       "      <td>5.6431</td>\n",
       "      <td>28.199</td>\n",
       "      <td>34.398</td>\n",
       "      <td>0.00662</td>\n",
       "      <td>0.000034</td>\n",
       "      <td>0.00401</td>\n",
       "      <td>0.00317</td>\n",
       "      <td>...</td>\n",
       "      <td>0.230</td>\n",
       "      <td>0.01438</td>\n",
       "      <td>0.01309</td>\n",
       "      <td>0.01662</td>\n",
       "      <td>0.04314</td>\n",
       "      <td>0.014290</td>\n",
       "      <td>21.640</td>\n",
       "      <td>0.41888</td>\n",
       "      <td>0.54842</td>\n",
       "      <td>0.16006</td>\n",
       "    </tr>\n",
       "    <tr>\n",
       "      <th>1</th>\n",
       "      <td>1</td>\n",
       "      <td>72</td>\n",
       "      <td>0</td>\n",
       "      <td>12.6660</td>\n",
       "      <td>28.447</td>\n",
       "      <td>34.894</td>\n",
       "      <td>0.00300</td>\n",
       "      <td>0.000017</td>\n",
       "      <td>0.00132</td>\n",
       "      <td>0.00150</td>\n",
       "      <td>...</td>\n",
       "      <td>0.179</td>\n",
       "      <td>0.00994</td>\n",
       "      <td>0.01072</td>\n",
       "      <td>0.01689</td>\n",
       "      <td>0.02982</td>\n",
       "      <td>0.011112</td>\n",
       "      <td>27.183</td>\n",
       "      <td>0.43493</td>\n",
       "      <td>0.56477</td>\n",
       "      <td>0.10810</td>\n",
       "    </tr>\n",
       "    <tr>\n",
       "      <th>2</th>\n",
       "      <td>1</td>\n",
       "      <td>72</td>\n",
       "      <td>0</td>\n",
       "      <td>19.6810</td>\n",
       "      <td>28.695</td>\n",
       "      <td>35.389</td>\n",
       "      <td>0.00481</td>\n",
       "      <td>0.000025</td>\n",
       "      <td>0.00205</td>\n",
       "      <td>0.00208</td>\n",
       "      <td>...</td>\n",
       "      <td>0.181</td>\n",
       "      <td>0.00734</td>\n",
       "      <td>0.00844</td>\n",
       "      <td>0.01458</td>\n",
       "      <td>0.02202</td>\n",
       "      <td>0.020220</td>\n",
       "      <td>23.047</td>\n",
       "      <td>0.46222</td>\n",
       "      <td>0.54405</td>\n",
       "      <td>0.21014</td>\n",
       "    </tr>\n",
       "    <tr>\n",
       "      <th>3</th>\n",
       "      <td>1</td>\n",
       "      <td>72</td>\n",
       "      <td>0</td>\n",
       "      <td>25.6470</td>\n",
       "      <td>28.905</td>\n",
       "      <td>35.810</td>\n",
       "      <td>0.00528</td>\n",
       "      <td>0.000027</td>\n",
       "      <td>0.00191</td>\n",
       "      <td>0.00264</td>\n",
       "      <td>...</td>\n",
       "      <td>0.327</td>\n",
       "      <td>0.01106</td>\n",
       "      <td>0.01265</td>\n",
       "      <td>0.01963</td>\n",
       "      <td>0.03317</td>\n",
       "      <td>0.027837</td>\n",
       "      <td>24.445</td>\n",
       "      <td>0.48730</td>\n",
       "      <td>0.57794</td>\n",
       "      <td>0.33277</td>\n",
       "    </tr>\n",
       "    <tr>\n",
       "      <th>4</th>\n",
       "      <td>1</td>\n",
       "      <td>72</td>\n",
       "      <td>0</td>\n",
       "      <td>33.6420</td>\n",
       "      <td>29.187</td>\n",
       "      <td>36.375</td>\n",
       "      <td>0.00335</td>\n",
       "      <td>0.000020</td>\n",
       "      <td>0.00093</td>\n",
       "      <td>0.00130</td>\n",
       "      <td>...</td>\n",
       "      <td>0.176</td>\n",
       "      <td>0.00679</td>\n",
       "      <td>0.00929</td>\n",
       "      <td>0.01819</td>\n",
       "      <td>0.02036</td>\n",
       "      <td>0.011625</td>\n",
       "      <td>26.126</td>\n",
       "      <td>0.47188</td>\n",
       "      <td>0.56122</td>\n",
       "      <td>0.19361</td>\n",
       "    </tr>\n",
       "  </tbody>\n",
       "</table>\n",
       "<p>5 rows × 22 columns</p>\n",
       "</div>"
      ],
      "text/plain": [
       "   subject#  age  sex  test_time  motor_UPDRS  total_UPDRS  Jitter(%)  \\\n",
       "0         1   72    0     5.6431       28.199       34.398    0.00662   \n",
       "1         1   72    0    12.6660       28.447       34.894    0.00300   \n",
       "2         1   72    0    19.6810       28.695       35.389    0.00481   \n",
       "3         1   72    0    25.6470       28.905       35.810    0.00528   \n",
       "4         1   72    0    33.6420       29.187       36.375    0.00335   \n",
       "\n",
       "   Jitter(Abs)  Jitter:RAP  Jitter:PPQ5   ...     Shimmer(dB)  Shimmer:APQ3  \\\n",
       "0     0.000034     0.00401      0.00317   ...           0.230       0.01438   \n",
       "1     0.000017     0.00132      0.00150   ...           0.179       0.00994   \n",
       "2     0.000025     0.00205      0.00208   ...           0.181       0.00734   \n",
       "3     0.000027     0.00191      0.00264   ...           0.327       0.01106   \n",
       "4     0.000020     0.00093      0.00130   ...           0.176       0.00679   \n",
       "\n",
       "   Shimmer:APQ5  Shimmer:APQ11  Shimmer:DDA       NHR     HNR     RPDE  \\\n",
       "0       0.01309        0.01662      0.04314  0.014290  21.640  0.41888   \n",
       "1       0.01072        0.01689      0.02982  0.011112  27.183  0.43493   \n",
       "2       0.00844        0.01458      0.02202  0.020220  23.047  0.46222   \n",
       "3       0.01265        0.01963      0.03317  0.027837  24.445  0.48730   \n",
       "4       0.00929        0.01819      0.02036  0.011625  26.126  0.47188   \n",
       "\n",
       "       DFA      PPE  \n",
       "0  0.54842  0.16006  \n",
       "1  0.56477  0.10810  \n",
       "2  0.54405  0.21014  \n",
       "3  0.57794  0.33277  \n",
       "4  0.56122  0.19361  \n",
       "\n",
       "[5 rows x 22 columns]"
      ]
     },
     "execution_count": 261,
     "metadata": {},
     "output_type": "execute_result"
    }
   ],
   "source": [
    "df = pd.read_csv('parkinsons_updrs.data.txt')\n",
    "df.head()"
   ]
  },
  {
   "cell_type": "code",
   "execution_count": 262,
   "metadata": {},
   "outputs": [
    {
     "data": {
      "text/plain": [
       "22"
      ]
     },
     "execution_count": 262,
     "metadata": {},
     "output_type": "execute_result"
    }
   ],
   "source": [
    "len(df.columns)"
   ]
  },
  {
   "cell_type": "code",
   "execution_count": 263,
   "metadata": {},
   "outputs": [
    {
     "data": {
      "text/html": [
       "<div>\n",
       "<style scoped>\n",
       "    .dataframe tbody tr th:only-of-type {\n",
       "        vertical-align: middle;\n",
       "    }\n",
       "\n",
       "    .dataframe tbody tr th {\n",
       "        vertical-align: top;\n",
       "    }\n",
       "\n",
       "    .dataframe thead th {\n",
       "        text-align: right;\n",
       "    }\n",
       "</style>\n",
       "<table border=\"1\" class=\"dataframe\">\n",
       "  <thead>\n",
       "    <tr style=\"text-align: right;\">\n",
       "      <th></th>\n",
       "      <th>0</th>\n",
       "      <th>1</th>\n",
       "      <th>2</th>\n",
       "      <th>3</th>\n",
       "      <th>4</th>\n",
       "      <th>5</th>\n",
       "      <th>6</th>\n",
       "      <th>7</th>\n",
       "      <th>8</th>\n",
       "      <th>9</th>\n",
       "      <th>...</th>\n",
       "      <th>19</th>\n",
       "      <th>20</th>\n",
       "      <th>21</th>\n",
       "      <th>22</th>\n",
       "      <th>23</th>\n",
       "      <th>24</th>\n",
       "      <th>25</th>\n",
       "      <th>26</th>\n",
       "      <th>27</th>\n",
       "      <th>28</th>\n",
       "    </tr>\n",
       "  </thead>\n",
       "  <tbody>\n",
       "    <tr>\n",
       "      <th>0</th>\n",
       "      <td>1</td>\n",
       "      <td>1.488</td>\n",
       "      <td>0.000090</td>\n",
       "      <td>0.900</td>\n",
       "      <td>0.794</td>\n",
       "      <td>2.699</td>\n",
       "      <td>8.334</td>\n",
       "      <td>0.779</td>\n",
       "      <td>4.517</td>\n",
       "      <td>4.609</td>\n",
       "      <td>...</td>\n",
       "      <td>187.576</td>\n",
       "      <td>160</td>\n",
       "      <td>159</td>\n",
       "      <td>0.006065</td>\n",
       "      <td>0.000416</td>\n",
       "      <td>0.000</td>\n",
       "      <td>0</td>\n",
       "      <td>0.000</td>\n",
       "      <td>23</td>\n",
       "      <td>1</td>\n",
       "    </tr>\n",
       "    <tr>\n",
       "      <th>1</th>\n",
       "      <td>1</td>\n",
       "      <td>0.728</td>\n",
       "      <td>0.000038</td>\n",
       "      <td>0.353</td>\n",
       "      <td>0.376</td>\n",
       "      <td>1.059</td>\n",
       "      <td>5.864</td>\n",
       "      <td>0.642</td>\n",
       "      <td>2.058</td>\n",
       "      <td>3.180</td>\n",
       "      <td>...</td>\n",
       "      <td>234.505</td>\n",
       "      <td>170</td>\n",
       "      <td>169</td>\n",
       "      <td>0.005181</td>\n",
       "      <td>0.000403</td>\n",
       "      <td>2.247</td>\n",
       "      <td>0</td>\n",
       "      <td>0.000</td>\n",
       "      <td>23</td>\n",
       "      <td>1</td>\n",
       "    </tr>\n",
       "    <tr>\n",
       "      <th>2</th>\n",
       "      <td>1</td>\n",
       "      <td>1.220</td>\n",
       "      <td>0.000074</td>\n",
       "      <td>0.732</td>\n",
       "      <td>0.670</td>\n",
       "      <td>2.196</td>\n",
       "      <td>8.719</td>\n",
       "      <td>0.875</td>\n",
       "      <td>4.347</td>\n",
       "      <td>5.166</td>\n",
       "      <td>...</td>\n",
       "      <td>211.442</td>\n",
       "      <td>1431</td>\n",
       "      <td>1427</td>\n",
       "      <td>0.006071</td>\n",
       "      <td>0.000474</td>\n",
       "      <td>10.656</td>\n",
       "      <td>1</td>\n",
       "      <td>0.178</td>\n",
       "      <td>23</td>\n",
       "      <td>1</td>\n",
       "    </tr>\n",
       "    <tr>\n",
       "      <th>3</th>\n",
       "      <td>1</td>\n",
       "      <td>2.502</td>\n",
       "      <td>0.000123</td>\n",
       "      <td>1.156</td>\n",
       "      <td>1.634</td>\n",
       "      <td>3.469</td>\n",
       "      <td>13.513</td>\n",
       "      <td>1.273</td>\n",
       "      <td>5.263</td>\n",
       "      <td>8.771</td>\n",
       "      <td>...</td>\n",
       "      <td>220.230</td>\n",
       "      <td>94</td>\n",
       "      <td>92</td>\n",
       "      <td>0.004910</td>\n",
       "      <td>0.000320</td>\n",
       "      <td>0.000</td>\n",
       "      <td>0</td>\n",
       "      <td>0.000</td>\n",
       "      <td>23</td>\n",
       "      <td>1</td>\n",
       "    </tr>\n",
       "    <tr>\n",
       "      <th>4</th>\n",
       "      <td>1</td>\n",
       "      <td>3.509</td>\n",
       "      <td>0.000167</td>\n",
       "      <td>1.715</td>\n",
       "      <td>1.539</td>\n",
       "      <td>5.145</td>\n",
       "      <td>9.112</td>\n",
       "      <td>1.040</td>\n",
       "      <td>3.102</td>\n",
       "      <td>4.927</td>\n",
       "      <td>...</td>\n",
       "      <td>225.162</td>\n",
       "      <td>117</td>\n",
       "      <td>114</td>\n",
       "      <td>0.004757</td>\n",
       "      <td>0.000380</td>\n",
       "      <td>18.182</td>\n",
       "      <td>1</td>\n",
       "      <td>13.318</td>\n",
       "      <td>23</td>\n",
       "      <td>1</td>\n",
       "    </tr>\n",
       "  </tbody>\n",
       "</table>\n",
       "<p>5 rows × 29 columns</p>\n",
       "</div>"
      ],
      "text/plain": [
       "   0      1         2      3      4      5       6      7      8      9  ...  \\\n",
       "0   1  1.488  0.000090  0.900  0.794  2.699   8.334  0.779  4.517  4.609 ...   \n",
       "1   1  0.728  0.000038  0.353  0.376  1.059   5.864  0.642  2.058  3.180 ...   \n",
       "2   1  1.220  0.000074  0.732  0.670  2.196   8.719  0.875  4.347  5.166 ...   \n",
       "3   1  2.502  0.000123  1.156  1.634  3.469  13.513  1.273  5.263  8.771 ...   \n",
       "4   1  3.509  0.000167  1.715  1.539  5.145   9.112  1.040  3.102  4.927 ...   \n",
       "\n",
       "        19    20    21        22        23      24  25      26  27  28  \n",
       "0  187.576   160   159  0.006065  0.000416   0.000   0   0.000  23   1  \n",
       "1  234.505   170   169  0.005181  0.000403   2.247   0   0.000  23   1  \n",
       "2  211.442  1431  1427  0.006071  0.000474  10.656   1   0.178  23   1  \n",
       "3  220.230    94    92  0.004910  0.000320   0.000   0   0.000  23   1  \n",
       "4  225.162   117   114  0.004757  0.000380  18.182   1  13.318  23   1  \n",
       "\n",
       "[5 rows x 29 columns]"
      ]
     },
     "execution_count": 263,
     "metadata": {},
     "output_type": "execute_result"
    }
   ],
   "source": [
    "df = pd.read_csv('parkinson.txt', header=None)\n",
    "df.head()"
   ]
  },
  {
   "cell_type": "code",
   "execution_count": 264,
   "metadata": {},
   "outputs": [
    {
     "name": "stderr",
     "output_type": "stream",
     "text": [
      "C:\\Users\\naomi\\Miniconda3\\envs\\py36\\lib\\site-packages\\sklearn\\preprocessing\\data.py:617: DataConversionWarning: Data with input dtype int64, float64 were all converted to float64 by StandardScaler.\n",
      "  return self.partial_fit(X, y)\n",
      "C:\\Users\\naomi\\Miniconda3\\envs\\py36\\lib\\site-packages\\sklearn\\base.py:462: DataConversionWarning: Data with input dtype int64, float64 were all converted to float64 by StandardScaler.\n",
      "  return self.fit(X, **fit_params).transform(X)\n"
     ]
    },
    {
     "data": {
      "text/plain": [
       "(728, 26)"
      ]
     },
     "execution_count": 264,
     "metadata": {},
     "output_type": "execute_result"
    }
   ],
   "source": [
    "X = df[df.columns[1:27]]\n",
    "y=df[28]\n",
    "\n",
    "X = StandardScaler().fit_transform(X)\n",
    "X_train, X_test, y_train, y_test = train_test_split(X, y, test_size=.3, \n",
    "                                                    random_state=42)\n",
    "\n",
    "X_train.shape"
   ]
  },
  {
   "cell_type": "markdown",
   "metadata": {},
   "source": [
    "### Build and compile keras model"
   ]
  },
  {
   "cell_type": "code",
   "execution_count": 265,
   "metadata": {},
   "outputs": [
    {
     "name": "stdout",
     "output_type": "stream",
     "text": [
      "_________________________________________________________________\n",
      "Layer (type)                 Output Shape              Param #   \n",
      "=================================================================\n",
      "dense_52 (Dense)             (None, 64)                1728      \n",
      "_________________________________________________________________\n",
      "dropout_35 (Dropout)         (None, 64)                0         \n",
      "_________________________________________________________________\n",
      "dense_53 (Dense)             (None, 64)                4160      \n",
      "_________________________________________________________________\n",
      "dropout_36 (Dropout)         (None, 64)                0         \n",
      "_________________________________________________________________\n",
      "dense_54 (Dense)             (None, 1)                 65        \n",
      "=================================================================\n",
      "Total params: 5,953\n",
      "Trainable params: 5,953\n",
      "Non-trainable params: 0\n",
      "_________________________________________________________________\n"
     ]
    }
   ],
   "source": [
    "np.random.seed(1235)\n",
    "\n",
    "batch_size = 20\n",
    "epochs = 20\n",
    "\n",
    "def get_model(lsize=64, optimizer=RMSprop()):\n",
    "    model = Sequential()\n",
    "    model.add(Dense(lsize, activation='relu', input_shape=(X_train.shape[1],)))\n",
    "    model.add(Dropout(0.1))\n",
    "    model.add(Dense(lsize, activation='relu'))\n",
    "    model.add(Dropout(0.1))\n",
    "    model.add(Dense(1, activation='sigmoid'))\n",
    "\n",
    "    model.compile(loss='binary_crossentropy',\n",
    "                  optimizer=optimizer,\n",
    "                  metrics=['accuracy'])\n",
    "    return model\n",
    "\n",
    "model=get_model()\n",
    "model.summary()"
   ]
  },
  {
   "cell_type": "markdown",
   "metadata": {},
   "source": [
    "## Train the model"
   ]
  },
  {
   "cell_type": "code",
   "execution_count": 266,
   "metadata": {},
   "outputs": [
    {
     "name": "stdout",
     "output_type": "stream",
     "text": [
      "Train on 728 samples, validate on 312 samples\n",
      "Epoch 1/20\n",
      "728/728 [==============================] - 2s 2ms/step - loss: 0.6656 - acc: 0.5852 - val_loss: 0.6456 - val_acc: 0.6506\n",
      "Epoch 2/20\n",
      "728/728 [==============================] - 0s 99us/step - loss: 0.6334 - acc: 0.6374 - val_loss: 0.6380 - val_acc: 0.6571\n",
      "Epoch 3/20\n",
      "728/728 [==============================] - 0s 97us/step - loss: 0.6163 - acc: 0.6511 - val_loss: 0.6227 - val_acc: 0.6731\n",
      "Epoch 4/20\n",
      "728/728 [==============================] - 0s 89us/step - loss: 0.6037 - acc: 0.6415 - val_loss: 0.6167 - val_acc: 0.6571\n",
      "Epoch 5/20\n",
      "728/728 [==============================] - 0s 77us/step - loss: 0.5993 - acc: 0.6662 - val_loss: 0.6116 - val_acc: 0.6635\n",
      "Epoch 6/20\n",
      "728/728 [==============================] - 0s 96us/step - loss: 0.5874 - acc: 0.6703 - val_loss: 0.6197 - val_acc: 0.6442\n",
      "Epoch 7/20\n",
      "728/728 [==============================] - 0s 84us/step - loss: 0.5829 - acc: 0.6703 - val_loss: 0.6037 - val_acc: 0.6667\n",
      "Epoch 8/20\n",
      "728/728 [==============================] - 0s 81us/step - loss: 0.5716 - acc: 0.6731 - val_loss: 0.6088 - val_acc: 0.6667\n",
      "Epoch 9/20\n",
      "728/728 [==============================] - 0s 78us/step - loss: 0.5696 - acc: 0.6731 - val_loss: 0.6012 - val_acc: 0.6603\n",
      "Epoch 10/20\n",
      "728/728 [==============================] - 0s 85us/step - loss: 0.5562 - acc: 0.6854 - val_loss: 0.6088 - val_acc: 0.6731\n",
      "Epoch 11/20\n",
      "728/728 [==============================] - 0s 84us/step - loss: 0.5611 - acc: 0.7005 - val_loss: 0.6050 - val_acc: 0.6635\n",
      "Epoch 12/20\n",
      "728/728 [==============================] - 0s 114us/step - loss: 0.5569 - acc: 0.6868 - val_loss: 0.6035 - val_acc: 0.6442\n",
      "Epoch 13/20\n",
      "728/728 [==============================] - 0s 103us/step - loss: 0.5468 - acc: 0.7294 - val_loss: 0.5952 - val_acc: 0.6763\n",
      "Epoch 14/20\n",
      "728/728 [==============================] - 0s 93us/step - loss: 0.5421 - acc: 0.7060 - val_loss: 0.5969 - val_acc: 0.6827\n",
      "Epoch 15/20\n",
      "728/728 [==============================] - 0s 90us/step - loss: 0.5155 - acc: 0.7376 - val_loss: 0.5926 - val_acc: 0.6667\n",
      "Epoch 16/20\n",
      "728/728 [==============================] - 0s 73us/step - loss: 0.5292 - acc: 0.7170 - val_loss: 0.5902 - val_acc: 0.6795\n",
      "Epoch 17/20\n",
      "728/728 [==============================] - 0s 87us/step - loss: 0.5227 - acc: 0.7280 - val_loss: 0.6110 - val_acc: 0.6538\n",
      "Epoch 18/20\n",
      "728/728 [==============================] - 0s 81us/step - loss: 0.5248 - acc: 0.7335 - val_loss: 0.5925 - val_acc: 0.6795\n",
      "Epoch 19/20\n",
      "728/728 [==============================] - 0s 74us/step - loss: 0.5164 - acc: 0.7308 - val_loss: 0.5989 - val_acc: 0.6795\n",
      "Epoch 20/20\n",
      "728/728 [==============================] - 0s 64us/step - loss: 0.5031 - acc: 0.7294 - val_loss: 0.5917 - val_acc: 0.6827\n"
     ]
    }
   ],
   "source": [
    "history = model.fit(X_train, y_train,\n",
    "                    batch_size=batch_size,\n",
    "                    epochs=epochs,\n",
    "                    verbose=1,\n",
    "                    validation_data=(X_test, y_test))\n"
   ]
  },
  {
   "cell_type": "code",
   "execution_count": 267,
   "metadata": {
    "scrolled": true
   },
   "outputs": [
    {
     "data": {
      "image/png": "[encoded data removed]",
      "text/plain": [
       "<Figure size 432x288 with 1 Axes>"
      ]
     },
     "metadata": {
      "needs_background": "light"
     },
     "output_type": "display_data"
    }
   ],
   "source": [
    "uplot.drow_history(history, 'loss')"
   ]
  },
  {
   "cell_type": "code",
   "execution_count": 268,
   "metadata": {
    "scrolled": true
   },
   "outputs": [
    {
     "data": {
      "image/png": "[encoded data removed]",
      "text/plain": [
       "<Figure size 432x288 with 1 Axes>"
      ]
     },
     "metadata": {
      "needs_background": "light"
     },
     "output_type": "display_data"
    }
   ],
   "source": [
    "uplot.drow_history(history, 'acc')"
   ]
  },
  {
   "cell_type": "markdown",
   "metadata": {},
   "source": [
    "## Evaluate model"
   ]
  },
  {
   "cell_type": "code",
   "execution_count": 269,
   "metadata": {},
   "outputs": [
    {
     "name": "stdout",
     "output_type": "stream",
     "text": [
      "Test loss: 0.591655954337\n",
      "Test accuracy: 0.682692306164\n"
     ]
    }
   ],
   "source": [
    "score = model.evaluate(X_test, y_test, verbose=0)\n",
    "print('Test loss:', score[0])\n",
    "print('Test accuracy:', score[1])"
   ]
  },
  {
   "cell_type": "markdown",
   "metadata": {},
   "source": [
    "## Predict"
   ]
  },
  {
   "cell_type": "code",
   "execution_count": 270,
   "metadata": {
    "scrolled": true
   },
   "outputs": [
    {
     "name": "stdout",
     "output_type": "stream",
     "text": [
      "Accuracy: 0.68269, Cohen's Kappa Score: 0.36434\n",
      "Confusion Matrix:\n",
      "[[100  51]\n",
      " [ 48 113]]\n",
      "Classification Report:\n",
      "              precision    recall  f1-score   support\n",
      "\n",
      "           0       0.68      0.66      0.67       151\n",
      "           1       0.69      0.70      0.70       161\n",
      "\n",
      "   micro avg       0.68      0.68      0.68       312\n",
      "   macro avg       0.68      0.68      0.68       312\n",
      "weighted avg       0.68      0.68      0.68       312\n",
      "\n"
     ]
    }
   ],
   "source": [
    "pred_test = model.predict(X_test)\n",
    "y_pred_test = np.where(pred_test > 0.5, 1, 0).flatten()\n",
    "print_stats(y_test,y_pred_test )"
   ]
  },
  {
   "cell_type": "code",
   "execution_count": 271,
   "metadata": {},
   "outputs": [
    {
     "data": {
      "text/plain": [
       "(array([1, 0, 1, 1, 0, 0, 1, 1, 1, 1]),\n",
       " array([1, 0, 1, 1, 0, 0, 1, 1, 1, 1], dtype=int64))"
      ]
     },
     "execution_count": 271,
     "metadata": {},
     "output_type": "execute_result"
    }
   ],
   "source": [
    "pred_test = model.predict(X_test)\n",
    "y_pred_test = np.where(pred_test > 0.5, 1, 0).flatten()\n",
    "y_pred_test[0:10], y_test[0:10].values"
   ]
  },
  {
   "cell_type": "code",
   "execution_count": 272,
   "metadata": {
    "scrolled": true
   },
   "outputs": [
    {
     "name": "stdout",
     "output_type": "stream",
     "text": [
      "Accuracy: 0.68269, Cohen's Kappa Score: 0.36434\n",
      "Confusion Matrix:\n",
      "[[100  51]\n",
      " [ 48 113]]\n",
      "Classification Report:\n",
      "              precision    recall  f1-score   support\n",
      "\n",
      "           0       0.68      0.66      0.67       151\n",
      "           1       0.69      0.70      0.70       161\n",
      "\n",
      "   micro avg       0.68      0.68      0.68       312\n",
      "   macro avg       0.68      0.68      0.68       312\n",
      "weighted avg       0.68      0.68      0.68       312\n",
      "\n"
     ]
    }
   ],
   "source": [
    "print_stats(y_test,y_pred_test )"
   ]
  },
  {
   "cell_type": "code",
   "execution_count": 273,
   "metadata": {
    "scrolled": true
   },
   "outputs": [
    {
     "data": {
      "image/png": "[encoded data removed]",
      "text/plain": [
       "<Figure size 432x288 with 1 Axes>"
      ]
     },
     "metadata": {
      "needs_background": "light"
     },
     "output_type": "display_data"
    }
   ],
   "source": [
    "uplot.drow_roc_curve(y_test, model.predict(X_test))"
   ]
  },
  {
   "cell_type": "markdown",
   "metadata": {},
   "source": [
    "## Optimizers\n",
    "### SGD - Stochastic gradient descent optimizer.\n",
    "Includes support for momentum, explained below. \n",
    "\n",
    "### Adagrad\n",
    "is an algorithm for gradient-based optimization that does just this: It adapts the learning rate to the parameters, performing smaller updates\n",
    "(i.e. low learning rates) for parameters associated with frequently occurring features, and larger updates (i.e. high learning rates) for parameters associated with infrequent features. For this reason, it is well-suited for dealing with sparse data.\n",
    "\n",
    "### Adadelta\n",
    "Adadelta is an extension of Adagrad that seeks to reduce its aggressive, monotonically decreasing learning rate. \n",
    "\n",
    "### RMSprop \n",
    "is an unpublished, adaptive learning rate method proposed by Geoff Hinton in Lecture 6e of his Coursera Class.http://www.cs.toronto.edu/~tijmen/csc321/slides/lecture_slides_lec6.pdf\n",
    "\n",
    "RMSprop and Adadelta have both been developed independently around the same time stemming from the need to resolve Adagrad's radically diminishing learning rates. \n",
    "\n",
    "### Adam\n",
    "Adaptive Moment Estimation (Adam) is another method that computes adaptive learning rates for each parameter. \n",
    "\n",
    "Whereas momentum can be seen as a ball running down a slope, Adam behaves like a heavy ball with friction, which thus prefers flat minima in the error surface\n",
    "\n",
    "* https://hackernoon.com/gradient-clipping-57f04f0adae\n",
    "* https://keras.io/optimizers/\n",
    "* https://hackernoon.com/gradient-clipping-57f04f0adae\n",
    "* http://ruder.io/optimizing-gradient-descent/index.html"
   ]
  },
  {
   "cell_type": "code",
   "execution_count": 274,
   "metadata": {},
   "outputs": [],
   "source": [
    "np.random.seed(1235)\n",
    "\n",
    "batch_size = 20\n",
    "epochs = 20\n",
    "\n",
    "sgd = optimizers.SGD(lr=0.1)\n",
    "model = get_model(lsize=64, optimizer=sgd)                  \n",
    "model.compile(loss='binary_crossentropy',\n",
    "              optimizer=sgd,\n",
    "              metrics=['accuracy'])\n"
   ]
  },
  {
   "cell_type": "code",
   "execution_count": 275,
   "metadata": {},
   "outputs": [
    {
     "name": "stdout",
     "output_type": "stream",
     "text": [
      "Train on 728 samples, validate on 312 samples\n",
      "Epoch 1/20\n",
      "728/728 [==============================] - 1s 1ms/step - loss: 0.6745 - acc: 0.5838 - val_loss: 0.6498 - val_acc: 0.6603\n",
      "Epoch 2/20\n",
      "728/728 [==============================] - 0s 87us/step - loss: 0.6404 - acc: 0.6154 - val_loss: 0.6355 - val_acc: 0.6442\n",
      "Epoch 3/20\n",
      "728/728 [==============================] - 0s 64us/step - loss: 0.6222 - acc: 0.6511 - val_loss: 0.6166 - val_acc: 0.6571\n",
      "Epoch 4/20\n",
      "728/728 [==============================] - 0s 86us/step - loss: 0.6093 - acc: 0.6538 - val_loss: 0.6202 - val_acc: 0.6667\n",
      "Epoch 5/20\n",
      "728/728 [==============================] - 0s 64us/step - loss: 0.6072 - acc: 0.6621 - val_loss: 0.6072 - val_acc: 0.6635\n",
      "Epoch 6/20\n",
      "728/728 [==============================] - 0s 64us/step - loss: 0.5907 - acc: 0.6676 - val_loss: 0.6289 - val_acc: 0.6442\n",
      "Epoch 7/20\n",
      "728/728 [==============================] - 0s 64us/step - loss: 0.5863 - acc: 0.6497 - val_loss: 0.6117 - val_acc: 0.6763\n",
      "Epoch 8/20\n",
      "728/728 [==============================] - 0s 64us/step - loss: 0.5774 - acc: 0.6813 - val_loss: 0.6166 - val_acc: 0.6538\n",
      "Epoch 9/20\n",
      "728/728 [==============================] - 0s 86us/step - loss: 0.5699 - acc: 0.6717 - val_loss: 0.6066 - val_acc: 0.6699\n",
      "Epoch 10/20\n",
      "728/728 [==============================] - 0s 87us/step - loss: 0.5562 - acc: 0.6992 - val_loss: 0.6262 - val_acc: 0.6827\n",
      "Epoch 11/20\n",
      "728/728 [==============================] - 0s 64us/step - loss: 0.5659 - acc: 0.6854 - val_loss: 0.6088 - val_acc: 0.6635\n",
      "Epoch 12/20\n",
      "728/728 [==============================] - 0s 98us/step - loss: 0.5613 - acc: 0.6786 - val_loss: 0.6153 - val_acc: 0.6346\n",
      "Epoch 13/20\n",
      "728/728 [==============================] - 0s 78us/step - loss: 0.5559 - acc: 0.7129 - val_loss: 0.5989 - val_acc: 0.6603\n",
      "Epoch 14/20\n",
      "728/728 [==============================] - 0s 92us/step - loss: 0.5463 - acc: 0.6923 - val_loss: 0.6072 - val_acc: 0.6795\n",
      "Epoch 15/20\n",
      "728/728 [==============================] - 0s 81us/step - loss: 0.5190 - acc: 0.7239 - val_loss: 0.5901 - val_acc: 0.6763\n",
      "Epoch 16/20\n",
      "728/728 [==============================] - 0s 64us/step - loss: 0.5266 - acc: 0.7170 - val_loss: 0.5909 - val_acc: 0.6699\n",
      "Epoch 17/20\n",
      "728/728 [==============================] - 0s 75us/step - loss: 0.5291 - acc: 0.7170 - val_loss: 0.6319 - val_acc: 0.6699\n",
      "Epoch 18/20\n",
      "728/728 [==============================] - 0s 64us/step - loss: 0.5330 - acc: 0.7225 - val_loss: 0.6767 - val_acc: 0.6346\n",
      "Epoch 19/20\n",
      "728/728 [==============================] - 0s 103us/step - loss: 0.5299 - acc: 0.7239 - val_loss: 0.5945 - val_acc: 0.6827\n",
      "Epoch 20/20\n",
      "728/728 [==============================] - 0s 71us/step - loss: 0.5136 - acc: 0.7157 - val_loss: 0.5922 - val_acc: 0.6859\n"
     ]
    }
   ],
   "source": [
    "history_sgd = model.fit(X_train, y_train,\n",
    "                    batch_size=batch_size,\n",
    "                    epochs=epochs,\n",
    "                    verbose=1,\n",
    "                    validation_data=(X_test, y_test))\n"
   ]
  },
  {
   "cell_type": "code",
   "execution_count": 276,
   "metadata": {
    "scrolled": true
   },
   "outputs": [
    {
     "data": {
      "image/png": "[encoded data removed]",
      "text/plain": [
       "<Figure size 576x288 with 1 Axes>"
      ]
     },
     "metadata": {
      "needs_background": "light"
     },
     "output_type": "display_data"
    }
   ],
   "source": [
    "from IPython.core.pylabtools import figsize\n",
    "figsize(8,4)\n",
    "drow_history_list(history_list=[history, history_sgd], history_names=['RMSprop', 'SGD'],  metric=None)"
   ]
  },
  {
   "cell_type": "code",
   "execution_count": 277,
   "metadata": {
    "scrolled": true
   },
   "outputs": [
    {
     "data": {
      "image/png": "[encoded data removed]",
      "text/plain": [
       "<Figure size 576x288 with 1 Axes>"
      ]
     },
     "metadata": {
      "needs_background": "light"
     },
     "output_type": "display_data"
    }
   ],
   "source": [
    "drow_history_list(history_list=[history, history_sgd], history_names=['RMSprop', 'SGD'],  metric='acc')"
   ]
  },
  {
   "cell_type": "code",
   "execution_count": 278,
   "metadata": {
    "scrolled": true
   },
   "outputs": [
    {
     "name": "stdout",
     "output_type": "stream",
     "text": [
      "Test loss: 0.592205814826\n",
      "Test accuracy: 0.685897435897\n"
     ]
    }
   ],
   "source": [
    "score = model.evaluate(X_test, y_test, verbose=0)\n",
    "print('Test loss:', score[0])\n",
    "print('Test accuracy:', score[1])"
   ]
  },
  {
   "cell_type": "markdown",
   "metadata": {},
   "source": [
    "## Predict"
   ]
  },
  {
   "cell_type": "code",
   "execution_count": 279,
   "metadata": {
    "scrolled": true
   },
   "outputs": [
    {
     "name": "stdout",
     "output_type": "stream",
     "text": [
      "Accuracy: 0.68590, Cohen's Kappa Score: 0.37141\n",
      "Confusion Matrix:\n",
      "[[103  48]\n",
      " [ 50 111]]\n",
      "Classification Report:\n",
      "              precision    recall  f1-score   support\n",
      "\n",
      "           0       0.67      0.68      0.68       151\n",
      "           1       0.70      0.69      0.69       161\n",
      "\n",
      "   micro avg       0.69      0.69      0.69       312\n",
      "   macro avg       0.69      0.69      0.69       312\n",
      "weighted avg       0.69      0.69      0.69       312\n",
      "\n"
     ]
    }
   ],
   "source": [
    "pred_test = model.predict(X_test)\n",
    "y_pred_test = np.where(pred_test > 0.5, 1, 0).flatten()\n",
    "print_stats(y_test,y_pred_test )"
   ]
  },
  {
   "cell_type": "code",
   "execution_count": 280,
   "metadata": {
    "scrolled": false
   },
   "outputs": [
    {
     "data": {
      "image/png": "[encoded data removed]",
      "text/plain": [
       "<Figure size 576x288 with 1 Axes>"
      ]
     },
     "metadata": {
      "needs_background": "light"
     },
     "output_type": "display_data"
    }
   ],
   "source": [
    "uplot.drow_roc_curve(y_test, model.predict(X_test))"
   ]
  },
  {
   "cell_type": "markdown",
   "metadata": {},
   "source": [
    "## Exercise \n",
    "\n",
    "* Can you improve the result ?\n",
    "* Try different optimizers, Adadelta, Adam\n",
    "* Try different batch sized.\n",
    "\n",
    "* My best result was:\n",
    "\n",
    "Accuracy: 0.73077, Cohen's Kappa Score: 0.46054<br>\n",
    "Confusion Matrix:<br>\n",
    "[[107  44]<br>\n",
    " [ 40 121]]<br>\n",
    "Classification Report:<br>\n",
    "              precision    recall  f1-score   support<br>\n",
    "\n",
    "           0       0.73      0.71      0.72       151\n",
    "           1       0.73      0.75      0.74       161\n"
   ]
  },
  {
   "cell_type": "markdown",
   "metadata": {},
   "source": [
    "## Momentum\n",
    "Momentum is adding the past step direction, to the current which is calculated by the gradient. Usually set to 0.9\n",
    "\n",
    "![title](https://raw.githubusercontent.com/naomifridman/Introduction_to_deep_learning/master/imgs/momuntum_sgd.JPG)\n",
    "image from: optimizing-gradient-descent \n",
    "* http://ruder.io/optimizing-gradient-descent/index.html"
   ]
  },
  {
   "cell_type": "markdown",
   "metadata": {},
   "source": [
    "### Learn more:\n",
    "* https://keras.io/\n",
    "* http://cs231n.github.io/neural-networks-3/"
   ]
  }
 ],
 "metadata": {
  "kernelspec": {
   "display_name": "Python 3",
   "language": "python",
   "name": "python3"
  },
  "language_info": {
   "codemirror_mode": {
    "name": "ipython",
    "version": 3
   },
   "file_extension": ".py",
   "mimetype": "text/x-python",
   "name": "python",
   "nbconvert_exporter": "python",
   "pygments_lexer": "ipython3",
   "version": "3.6.6"
  }
 },
 "nbformat": 4,
 "nbformat_minor": 2
}
